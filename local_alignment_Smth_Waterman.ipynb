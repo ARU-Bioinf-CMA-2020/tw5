{
 "cells": [
  {
   "cell_type": "markdown",
   "metadata": {},
   "source": [
    "# Local alignment with the Smith-Waterman algorithm\n",
    "\n",
    "This notebook uses a simple implementation of local alignment methods to align the two short DNA sequences from the lecture discussion. \n",
    "\n",
    "For simplicity a very simple scoring scheme is defined instead of a complete scoring matrix or substitution table. \n",
    "\n",
    "Recall that unlike edit distance based methods the aim will be to *maximize* the score from this matrix applied to the sequence position comparisons. The scoring scheme includes a positive value for matching - distinct from edit-distance calculations where matching is the default and gains nothing. \n",
    "\n",
    "Non-matching options include the insertion of a gap into either *sequ* or *seqw* sequence. Gaps have negative scores and are equivalent to Deletions or Insertions in terms of editting. \n",
    "\n",
    "The first step is to populate the V matrix based on the scoring scheme and then the second step is the traceback. Traceback follows the maximum scoring positions in the matrix until it is terminated by a zero value.\n",
    "\n",
    "The Python library NumPy is used for the matrix operations."
   ]
  },
  {
   "cell_type": "code",
   "execution_count": null,
   "metadata": {},
   "outputs": [],
   "source": [
    "# run this cell to import Python numpy library\n",
    "import numpy"
   ]
  },
  {
   "cell_type": "markdown",
   "metadata": {},
   "source": [
    "The following scheme defines a simple example scoring matrix: 1 for matched nucleotides, -1 for mismatched nucleotides, -1 for a gap inserted in either."
   ]
  },
  {
   "cell_type": "code",
   "execution_count": null,
   "metadata": {},
   "outputs": [],
   "source": [
    "def scoringScheme(un, wn):\n",
    "    '''Scoring scheme: 1 for match, -1 for gap, else -1 (for mismatch) '''\n",
    "    if un == wn: return 1 # matching nucleotides\n",
    "    if un == '-' or wn == '-': return -1 # gap\n",
    "    return -1"
   ]
  },
  {
   "cell_type": "markdown",
   "metadata": {},
   "source": [
    "Here are the two DNA sequences from the lecture example: 'GGTATGCTGGCGC' and 'TATATGCGGCGTTT'. As the first of these is shorter we add a gap to make them equal lengths. "
   ]
  },
  {
   "cell_type": "code",
   "execution_count": null,
   "metadata": {},
   "outputs": [],
   "source": [
    "seqa, seqb = '-GGTATGCTGGCGC', 'TATATGCGGCGTTT'"
   ]
  },
  {
   "cell_type": "markdown",
   "metadata": {},
   "source": [
    "To see how similar the complete sequences are write a cell to apply the scoringScheme function to the sequences one nucleotide at a time. "
   ]
  },
  {
   "cell_type": "code",
   "execution_count": null,
   "metadata": {},
   "outputs": [],
   "source": [
    "# write your Python code to compare the sequences seqa and seqb"
   ]
  },
  {
   "cell_type": "markdown",
   "metadata": {},
   "source": [
    "How well did this score? \n",
    "Can you improve on the score by changing the position of the gap - to the beginning of *seqa* or somewhere in the middle? \n",
    "\n",
    "The problem here is that the sequences do not globally align very well at all. However there is a shorter sequence motif that they have in common. A local alignment will help locate that."
   ]
  },
  {
   "cell_type": "markdown",
   "metadata": {},
   "source": [
    "# Smith-Waterman algorithm for optimal local alignment\n",
    "\n",
    "The smithWaterman function below populates the V[*i,j*] matrix elements using the method described in the lecture. Notice that the indices *i*-1,*j*-1 refer to the current positions in the sequences as each has an appended initial empty string. The scoring used will be the scoring scheme function defined abover rather than a *similarity matrix*.  \n",
    "\n",
    "The local alignment V[*i,j*] expression is the *maximum* form with the added '0' value (for an empty suffix) as explained in the lecture.\n",
    "\n",
    "The function uses the numpy function *where* to return the *i* and *j* indices of the the best similarity score which is reported."
   ]
  },
  {
   "cell_type": "code",
   "execution_count": null,
   "metadata": {},
   "outputs": [],
   "source": [
    "def smithWaterman(u, w, scoring):\n",
    "    ''' Fills V matrix values for sequences u and w using\n",
    "        dynamic programming. Returns matrix and maximum alignment score.'''\n",
    "    V = numpy.zeros((len(u)+1, len(w)+1), dtype=int) \n",
    "    for i in range(1, len(u)+1):\n",
    "        for j in range(1, len(w)+1):\n",
    "            V[i, j] = max(V[i-1, j-1] + scoring(u[i-1], w[j-1]), # max used \n",
    "                          V[i-1, j  ] + scoring(u[i-1], '-'),    \n",
    "                          V[i  , j-1] + scoring('-',    w[j-1]), \n",
    "                          0)                               \n",
    "    scoremax = numpy.where(V == V.max()) #finds optimal alignment score\n",
    "    return V, int(V[scoremax])"
   ]
  },
  {
   "cell_type": "markdown",
   "metadata": {},
   "source": [
    "Here is the example alignment problem from the lecture for sequences seqa and seqb. The full matrix is printed out including the initial amended empty row and column."
   ]
  },
  {
   "cell_type": "code",
   "execution_count": null,
   "metadata": {},
   "outputs": [],
   "source": [
    "seqa, seqb = 'GGTATGCTGGCGC', 'TATATGCGGCGTTT'\n",
    "V, opt = smithWaterman(seqa, seqb, scoringScheme)\n",
    "print(V)\n",
    "print(\"Optimum=%d, ends at %s\" % (opt, numpy.unravel_index(numpy.argmax(V), V.shape)))"
   ]
  },
  {
   "cell_type": "markdown",
   "metadata": {},
   "source": [
    "To retrieve the actual alignment, a traceback following the maximum V[*i,j*] values is required. The following function calls the scoringScheme again starting from the optimum. The edits transcript is constructed together with the alignment display. \n",
    "\n",
    "Notice that if the full matrix is retained in memory then the scoring function is not required. It is used here for generality as for searches of large numbers of sequences often only the V max score and its position are kept.  "
   ]
  },
  {
   "cell_type": "code",
   "execution_count": null,
   "metadata": {},
   "outputs": [],
   "source": [
    "def traceback(V, u, w, scoring):\n",
    "    ''' Traceback from optimum in the V matrix  '''\n",
    "    # get i, j for optimum\n",
    "    i, j = numpy.unravel_index(numpy.argmax(V), V.shape)\n",
    "    edits, alignNu, alignNw, alignMark = [], [], [], []\n",
    "    while (i > 0 or j > 0) and V[i, j] != 0:\n",
    "        diagl, vertl, horizl = 0, 0, 0\n",
    "        if i > 0 and j > 0:\n",
    "            diagl = V[i-1, j-1] + scoring(u[i-1], w[j-1])\n",
    "        if i > 0:\n",
    "            vertl = V[i-1, j] + scoring(u[i-1], '-')\n",
    "        if j > 0:\n",
    "            horizl = V[i, j-1] + scoring('-', w[j-1])\n",
    "        if diagl >= vertl and diagl >= horizl:\n",
    "            match = u[i-1] == w[j-1]\n",
    "            edits.append('M' if match else 'R')\n",
    "            alignMark.append('|' if match else ' ')\n",
    "            alignNu.append(u[i-1]); alignNw.append(w[j-1])\n",
    "            i -= 1; j -= 1\n",
    "        elif vertl >= horizl:\n",
    "            edits.append('D')\n",
    "            alignNu.append(u[i-1]); alignNw.append('-'); alignMark.append(' ')\n",
    "            i -= 1\n",
    "        else:\n",
    "            edits.append('I')\n",
    "            alignNw.append(w[j-1]); alignNu.append('-'); alignMark.append(' ')\n",
    "            j -= 1\n",
    "    # the edits transcript is built up in reverse\n",
    "    edits = (''.join(edits))[::-1]\n",
    "    # final alignment for display\n",
    "    alignment = '\\n'.join(map(lambda u: ''.join(u), [alignNu[::-1], alignMark[::-1], alignNw[::-1]]))\n",
    "    return edits, alignment"
   ]
  },
  {
   "cell_type": "markdown",
   "metadata": {},
   "source": [
    "Here is the editing transcript: M is a match and D is a deletion - equivalent to a gap insertion in the *other* sequence. We anticipate at least one deletion/gap or insertion/gap as we know the sequences differs in length by one nucleotide character."
   ]
  },
  {
   "cell_type": "code",
   "execution_count": null,
   "metadata": {},
   "outputs": [],
   "source": [
    "print(traceback(V, seqa, seqb, scoringScheme)[0])"
   ]
  },
  {
   "cell_type": "markdown",
   "metadata": {},
   "source": [
    "And this is a representation of the local alignment (as in the lecture). You can see that the deletion edit is actually a gap insertion in the second sequence."
   ]
  },
  {
   "cell_type": "code",
   "execution_count": null,
   "metadata": {},
   "outputs": [],
   "source": [
    "print(traceback(V, u, w, scoringScheme)[1])"
   ]
  },
  {
   "cell_type": "markdown",
   "metadata": {},
   "source": [
    "Here is an alignment with a second sequence that has a further mutation. "
   ]
  },
  {
   "cell_type": "code",
   "execution_count": null,
   "metadata": {},
   "outputs": [],
   "source": [
    "seqx = 'TATATGCCGCGTTT'\n",
    "V, opt = smithWaterman(seqa, seqx, scoringScheme)\n",
    "print(V)\n",
    "print(\"Optimum=%d, ends at %s\" % (opt, numpy.unravel_index(numpy.argmax(V), V.shape)))"
   ]
  },
  {
   "cell_type": "markdown",
   "metadata": {},
   "source": [
    "The optimum score is decreased and the edits transcript now includes R for 'replacement' since there is a mismatch."
   ]
  },
  {
   "cell_type": "code",
   "execution_count": null,
   "metadata": {},
   "outputs": [],
   "source": [
    "print(traceback(V, seqa, seqx, scoringScheme)[0])"
   ]
  },
  {
   "cell_type": "code",
   "execution_count": null,
   "metadata": {},
   "outputs": [],
   "source": [
    "print(traceback(V, seqa, seqx, scoringScheme)[1])"
   ]
  },
  {
   "cell_type": "markdown",
   "metadata": {},
   "source": [
    "Optional question: Can you use your earlier code for a similrity calculation to confirm the value for this optimum local alignment? "
   ]
  }
 ],
 "metadata": {
  "kernelspec": {
   "display_name": "Python 3",
   "language": "python",
   "name": "python3"
  },
  "language_info": {
   "codemirror_mode": {
    "name": "ipython",
    "version": 3
   },
   "file_extension": ".py",
   "mimetype": "text/x-python",
   "name": "python",
   "nbconvert_exporter": "python",
   "pygments_lexer": "ipython3",
   "version": "3.8.1"
  }
 },
 "nbformat": 4,
 "nbformat_minor": 2
}

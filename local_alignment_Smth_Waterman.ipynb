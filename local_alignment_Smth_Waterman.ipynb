{
 "cells": [
  {
   "cell_type": "markdown",
   "metadata": {},
   "source": [
    "# Local alignment with the Smith-Waterman algorithm\n",
    "\n",
    "This notebook uses a simple implementation of local alignment methods to align the two short DNA sequences from the lecture discussion. \n",
    "\n",
    "Let's start with some bookkeeping:\n",
    "\n",
    "*The Python library NumPy is used for the matrix operations.*"
   ]
  },
  {
   "cell_type": "code",
   "execution_count": null,
   "metadata": {},
   "outputs": [],
   "source": [
    "# run this cell to import Python numpy library\n",
    "import numpy"
   ]
  },
  {
   "cell_type": "code",
   "execution_count": 1,
   "metadata": {},
   "outputs": [
    {
     "name": "stdout",
     "output_type": "stream",
     "text": [
      "Python version 3.8 you are good to go\n"
     ]
    }
   ],
   "source": [
    "# run this cell to check your Python version is OK for this notebook!\n",
    "import sys\n",
    "def check_python_version_above_3_6():\n",
    "    major = sys.version_info.major\n",
    "    minor = sys.version_info.minor\n",
    "    if major < 3 or minor < 6:\n",
    "        print('ERROR you need to run this notebook with Python 3.6 or above (as f-strings used)')\n",
    "        print('ERROR current Python version is {}.{}'.format(major, minor))        \n",
    "        print('ERROR Please see:\\n',\n",
    "              '      https://canvas.anglia.ac.uk/courses/15139/pages/azure-notebooks-switching-kernel\\n'\n",
    "              '      for information on switching kernel on Azure Notebooks')\n",
    "    else:\n",
    "        print('Python version {}.{} you are good to go'.format(major, minor))\n",
    "check_python_version_above_3_6()"
   ]
  },
  {
   "cell_type": "markdown",
   "metadata": {},
   "source": [
    "To apply Smith-Waterman we need to be able to score an alignment.\n",
    "\n",
    "Recall that unlike edit distance based methods the aim will be to *maximize* the score from this matrix applied to the sequence position comparisons. The scoring scheme includes a positive value for matching - distinct from edit-distance calculations where matching is the default and gains nothing. \n",
    "\n",
    "Non-matching options include the insertion of a gap into either of the sequencse. Gaps have negative scores and are equivalent to Deletions or Insertions in terms of editting. \n",
    "\n",
    "The first step is to populate the V matrix based on the scoring scheme and then the second step is the traceback. Traceback follows the maximum scoring positions in the matrix until it is terminated by a zero value.\n",
    "\n",
    "For simplicity a very simple scoring scheme is defined instead of a complete scoring matrix or substitution table. "
   ]
  },
  {
   "cell_type": "markdown",
   "metadata": {},
   "source": [
    "The following scheme defines a simple example scoring matrix: 1 for matched nucleotides, -1 for mismatched nucleotides, -1 for a gap inserted in either."
   ]
  },
  {
   "cell_type": "code",
   "execution_count": null,
   "metadata": {},
   "outputs": [],
   "source": [
    "# run this cell to define the simple_scoring_scheme\n",
    "def simple_scoring_scheme(char_a, char_b):\n",
    "    \"\"\"\"\n",
    "    return the score for two characters char_a and char_b\n",
    "    Scoring scheme: 1 for match, -1 for gap, else -1 (for mismatch)\n",
    "    \"\"\"\n",
    "    if char_a == char_b:  # matching nucleotides\n",
    "        return 1\n",
    "    if char_a == '-' or char_b == '-':  # gap\n",
    "        return -1\n",
    "    return -1  # mismatch"
   ]
  },
  {
   "cell_type": "code",
   "execution_count": null,
   "metadata": {},
   "outputs": [],
   "source": [
    "# run this cell for crude tests of simple_scoring_scheme\n",
    "# (cannot easily do pytest in Juypter notebook)\n",
    "assert simple_scoring_scheme('A', 'A') == 1\n",
    "assert simple_scoring_scheme('A', 'T') == -1\n",
    "assert simple_scoring_scheme('A', '-') == -1\n",
    "print('test for simple_scoring_scheme - pass!')"
   ]
  },
  {
   "cell_type": "markdown",
   "metadata": {},
   "source": [
    "Suppose we have a trial alignment of two sequences:\n",
    "```\n",
    "-GGTATGCTGGCGC\n",
    "TATATGCGGCGTTT\n",
    "```\n",
    "We want a function to get the total `simple_scoring_scheme` for the alignment of two\n",
    "strings of equal length (including `-` characters)."
   ]
  },
  {
   "cell_type": "code",
   "execution_count": null,
   "metadata": {},
   "outputs": [],
   "source": [
    "# write Python to complete the function\n",
    "# remember to include a docstring\n",
    "def simple_score_alignment(align_a, aling_b):\n",
    "    pass"
   ]
  },
  {
   "cell_type": "code",
   "execution_count": null,
   "metadata": {},
   "outputs": [],
   "source": [
    "# run this cell for crude tests of simple_score_alignment\n",
    "# (cannot easily do pytest in Juypter notebook)\n",
    "assert simple_score_alignment('G', 'G') == 1\n",
    "assert simple_score_alignment('G', 'A') == -1\n",
    "assert simple_score_alignment('AG', 'AG') == 2\n",
    "assert simple_score_alignment('AG', 'AA') == 0\n",
    "assert simple_score_alignment('G', '-') == -1\n",
    "assert simple_score_alignment('AAAAA', 'AAAAA') == 5\n",
    "assert simple_score_alignment('AAAAA', 'AAA-A') == 3\n",
    "print('test for simple_score_alignment - pass!')"
   ]
  },
  {
   "cell_type": "markdown",
   "metadata": {},
   "source": [
    "Here are the two DNA sequences from the lecture example: \n",
    "```\n",
    "GGTATGCTGGCGC\n",
    "TATATGCGGCGTTT\n",
    "```"
   ]
  },
  {
   "cell_type": "code",
   "execution_count": null,
   "metadata": {},
   "outputs": [],
   "source": [
    "# run this cell to define seq_a and sequence seq_b\n",
    "seq_a = 'GGTATGCTGGCGC'\n",
    "seq_b = 'TATATGCGGCGTTT'"
   ]
  },
  {
   "cell_type": "markdown",
   "metadata": {},
   "source": [
    "As the sequence is shorter we add a gap to make them equal lengths:\n",
    "```\n",
    "-GGTATGCTGGCGC\n",
    "TATATGCGGCGTTT\n",
    "```\n",
    "What is the `simple_score_two_seqs` for this alignment?"
   ]
  },
  {
   "cell_type": "code",
   "execution_count": null,
   "metadata": {},
   "outputs": [],
   "source": [
    "# write your Python code to get the score for the alignment \n",
    "# placing the gap at the start of the first sequence"
   ]
  },
  {
   "cell_type": "markdown",
   "metadata": {},
   "source": [
    "When looking at alignments between two sequences it is convenient to highlight matching bases using the `|` character for identies where the two. This function returns a line that can be used to  achieve this."
   ]
  },
  {
   "cell_type": "code",
   "execution_count": null,
   "metadata": {},
   "outputs": [],
   "source": [
    "def highlight_line(first_seq, second_seq):\n",
    "    \"\"\" \n",
    "    for the two sequences returns a line where matching letters are \n",
    "    highlighted with | except if the letter are a gap\n",
    "    \"\"\"\n",
    "    joins = ['|' if a == b and a != '-' else ' ' for a, b in zip(first_seq, second_seq)]\n",
    "    return ''.join(joins)\n",
    "assert highlight_line('A', 'A') == '|'\n",
    "assert highlight_line('AAAA', 'AAAA') == '||||'\n",
    "assert highlight_line('AAAA', 'AGGA') == '|  |'\n",
    "assert highlight_line('AA-AA', 'AA-AA') == '|| ||'"
   ]
  },
  {
   "cell_type": "markdown",
   "metadata": {},
   "source": [
    "Use the `hightlight_line` function to show the 'best' global alignments between the two sequences:"
   ]
  },
  {
   "cell_type": "markdown",
   "metadata": {},
   "source": [
    "The problem here is that the sequences do not globally align very well at all. However there is a shorter sequence motif that they have in common. A local alignment will help locate that."
   ]
  },
  {
   "cell_type": "markdown",
   "metadata": {},
   "source": [
    "# Smith-Waterman algorithm for optimal local alignment\n",
    "\n",
    "\n",
    "\n",
    "The `smith_waterman` function below populates the `V[*i,j*]` matrix elements using the method described in the lecture. Notice that the indices *i*-1,*j*-1 refer to the current positions in the sequences as each has an appended initial empty string. The scoring used will be the scoring scheme function defined abover rather than a *similarity matrix*.  \n",
    "\n",
    "The local alignment V[*i,j*] expression is the *maximum* form with the added '0' value (for an empty suffix) as explained in the lecture.\n",
    "\n",
    "The function uses the numpy function *where* to return the *i* and *j* indices of the the best similarity score which is reported."
   ]
  },
  {
   "cell_type": "code",
   "execution_count": null,
   "metadata": {},
   "outputs": [],
   "source": [
    "def smith_waterman(u, w, scoring):\n",
    "    ''' Fills V matrix values for sequences u and w using\n",
    "        dynamic programming. Returns matrix and maximum alignment score.'''\n",
    "    V = numpy.zeros((len(u)+1, len(w)+1), dtype=int) \n",
    "    for i in range(1, len(u)+1):\n",
    "        for j in range(1, len(w)+1):\n",
    "            V[i, j] = max(V[i-1, j-1] + scoring(u[i-1], w[j-1]), # max used \n",
    "                          V[i-1, j  ] + scoring(u[i-1], '-'),    \n",
    "                          V[i  , j-1] + scoring('-',    w[j-1]), \n",
    "                          0)                               \n",
    "    return V, V.max()"
   ]
  },
  {
   "cell_type": "markdown",
   "metadata": {},
   "source": [
    "Here is the example alignment problem from the lecture for sequences `seq_a` and `seq_b` above (see lecture slide 39). The full matrix is printed out including the initial amended empty row and column."
   ]
  },
  {
   "cell_type": "code",
   "execution_count": null,
   "metadata": {},
   "outputs": [],
   "source": [
    "V, opt = smith_waterman(seq_a, seq_b, simple_scoring_scheme)\n",
    "print(V)\n",
    "print(f'Optimum={opt}, ends at {numpy.unravel_index(numpy.argmax(V), V.shape)}')"
   ]
  },
  {
   "cell_type": "markdown",
   "metadata": {},
   "source": [
    "To retrieve the actual alignment, a traceback following the maximum V[*i,j*] values is required. The following function calls the scoring scheme again starting from the optimum. The edits transcript is constructed together with the alignment display. \n",
    "\n",
    "Notice that if the full matrix is retained in memory then the scoring function is not required. It is used here for generality as for searches of large numbers of sequences often only the V max score and its position are kept.  "
   ]
  },
  {
   "cell_type": "code",
   "execution_count": null,
   "metadata": {},
   "outputs": [],
   "source": [
    "def traceback(V, u, w, scoring):\n",
    "    ''' Traceback from optimum in the V matrix  '''\n",
    "    # get i, j for optimum\n",
    "    i, j = numpy.unravel_index(numpy.argmax(V), V.shape)\n",
    "    edits, alignNu, alignNw, alignMark = [], [], [], []\n",
    "    while (i > 0 or j > 0) and V[i, j] != 0:\n",
    "        diagl, vertl, horizl = 0, 0, 0\n",
    "        if i > 0 and j > 0:\n",
    "            diagl = V[i-1, j-1] + scoring(u[i-1], w[j-1])\n",
    "        if i > 0:\n",
    "            vertl = V[i-1, j] + scoring(u[i-1], '-')\n",
    "        if j > 0:\n",
    "            horizl = V[i, j-1] + scoring('-', w[j-1])\n",
    "        if diagl >= vertl and diagl >= horizl:\n",
    "            match = u[i-1] == w[j-1]\n",
    "            edits.append('M' if match else 'R')\n",
    "            alignMark.append('|' if match else ' ')\n",
    "            alignNu.append(u[i-1]); alignNw.append(w[j-1])\n",
    "            i -= 1; j -= 1\n",
    "        elif vertl >= horizl:\n",
    "            edits.append('D')\n",
    "            alignNu.append(u[i-1]); alignNw.append('-'); alignMark.append(' ')\n",
    "            i -= 1\n",
    "        else:\n",
    "            edits.append('I')\n",
    "            alignNw.append(w[j-1]); alignNu.append('-'); alignMark.append(' ')\n",
    "            j -= 1\n",
    "    # the edits transcript is built up in reverse\n",
    "    edits = (''.join(edits))[::-1]\n",
    "    # final alignment for display\n",
    "    alignment = '\\n'.join(map(lambda u: ''.join(u), [alignNu[::-1], alignMark[::-1], alignNw[::-1]]))\n",
    "    return edits, alignment"
   ]
  },
  {
   "cell_type": "markdown",
   "metadata": {},
   "source": [
    "Here is the editing transcript: M is a match and D is a deletion - equivalent to a gap insertion in the *other* sequence. We anticipate at least one deletion/gap or insertion/gap as we know the sequences differs in length by one nucleotide character."
   ]
  },
  {
   "cell_type": "code",
   "execution_count": null,
   "metadata": {},
   "outputs": [],
   "source": [
    "print(traceback(V, seq_a, seq_b, simple_scoring_scheme)[0])"
   ]
  },
  {
   "cell_type": "markdown",
   "metadata": {},
   "source": [
    "And this is a representation of the local alignment (as in the lecture). You can see that the deletion edit is actually a gap insertion in the second sequence."
   ]
  },
  {
   "cell_type": "code",
   "execution_count": null,
   "metadata": {},
   "outputs": [],
   "source": [
    "print(traceback(V, seq_a, seq_b, simple_scoring_scheme)[1])"
   ]
  },
  {
   "cell_type": "markdown",
   "metadata": {},
   "source": [
    "Notice that the alignment covers only part of the sequences (why?). You should copy this alignment to answer the question on the tw6 quiz."
   ]
  },
  {
   "cell_type": "markdown",
   "metadata": {},
   "source": [
    "Here is an alignment with a second sequence that has a further mutation. "
   ]
  },
  {
   "cell_type": "code",
   "execution_count": null,
   "metadata": {},
   "outputs": [],
   "source": [
    "seq_a = 'GGTATGCTGGCGC'\n",
    "seq_x = 'TATATGCCGCGTTT'\n",
    "V, opt = smith_waterman(seq_a, seq_x, simple_scoring_scheme)\n",
    "print(V)\n",
    "print(f'Optimum={opt}, ends at {numpy.unravel_index(numpy.argmax(V), V.shape)}')"
   ]
  },
  {
   "cell_type": "markdown",
   "metadata": {},
   "source": [
    "The optimum score is decreased and the edits transcript now includes R for 'replacement' since there is a mismatch."
   ]
  },
  {
   "cell_type": "code",
   "execution_count": null,
   "metadata": {},
   "outputs": [],
   "source": [
    "print(traceback(V, seq_a, seq_x, simple_scoring_scheme)[0])"
   ]
  },
  {
   "cell_type": "code",
   "execution_count": null,
   "metadata": {},
   "outputs": [],
   "source": [
    "print(traceback(V, seq_a, seq_x, simple_scoring_scheme)[1])"
   ]
  },
  {
   "cell_type": "markdown",
   "metadata": {},
   "source": [
    "### Optional question\n",
    "Can you use your earlier code for a similarity calculation to confirm the value for this optimum local alignment? "
   ]
  },
  {
   "cell_type": "markdown",
   "metadata": {},
   "source": [
    "## Comparing the alignment results to online pairwise alignment tools.\n",
    "\n",
    "Above we did a crude global alignment and a Smith-Waterman local alignment of two sequences:\n",
    "```\n",
    "GGTATGCTGGCGC\n",
    "TATATGCGGCGTTT\n",
    "```\n",
    "This results in alignments:\n",
    "\n",
    "Crude global\n",
    "```\n",
    "GGTATGCTG-GCGC\n",
    "  ||||| | |   \n",
    "TATATGCGGCGTTT\n",
    "```\n",
    "\n",
    "Simple Smith-Watermann:\n",
    "```\n",
    "TATGCTGGCG\n",
    "||||| ||||\n",
    "TATGC-GGCG\n",
    "```\n",
    "\n",
    "Now aligning these two sequences using\n",
    "1. EMBOSS **Needle** global alignment web tool at EBI https://www.ebi.ac.uk/Tools/psa/emboss_needle/\n",
    "2. EMBOSS **Water** (Smith-Waterman) local alignment tool https://www.ebi.ac.uk/Tools/psa/emboss_water/\n",
    "\n",
    "**Make sure that in STEP 1 you select that you are entering a DNA sequences.** Leave options at the default"
   ]
  },
  {
   "cell_type": "raw",
   "metadata": {},
   "source": [
    "Copy the sequence alignment from EMBOSS Needle alignment into this cell"
   ]
  },
  {
   "cell_type": "markdown",
   "metadata": {},
   "source": [
    "Copy the of default EMBOSS Water alignment into this ceell."
   ]
  },
  {
   "cell_type": "markdown",
   "metadata": {},
   "source": [
    "## Question for weekly quiz\n",
    "\n",
    "For the two sequences copy the alignments for\n",
    "* `Crude global` (from Jupyter Notebook).\n",
    "* `Simple Smith-Watermann` (from Jupyter Notebook).\n",
    "* `EMBOSS Needle global` \n",
    "* `EMOSS Water local`.\n",
    "*(3 marks)*\n",
    "\n",
    "(A) what is the difference between the global and local alignments?\n",
    "\n",
    "(B) how does the crude global alignment differ from the EMBOSS Needle?\n",
    "\n",
    "(C) Does the `Simple Smith-Watermann` alignment accord with the `EMBOSS Water`? Which has the clearer user output? \n",
    "\n",
    "*(3 Marks)*"
   ]
  },
  {
   "cell_type": "markdown",
   "metadata": {},
   "source": [
    "## Optional advanced exercise.\n",
    "\n",
    "Suppose you wanted to adapt the Smith-Water algorithm to look for repeats in sequence (for instance repeated domains). What changes could you make? Can you alter the code to produce multiple alignments?"
   ]
  }
 ],
 "metadata": {
  "kernelspec": {
   "display_name": "Python 3",
   "language": "python",
   "name": "python3"
  },
  "language_info": {
   "codemirror_mode": {
    "name": "ipython",
    "version": 3
   },
   "file_extension": ".py",
   "mimetype": "text/x-python",
   "name": "python",
   "nbconvert_exporter": "python",
   "pygments_lexer": "ipython3",
   "version": "3.8.1"
  }
 },
 "nbformat": 4,
 "nbformat_minor": 2
}
